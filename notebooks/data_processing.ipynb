{
 "cells": [
  {
   "cell_type": "code",
   "execution_count": 2,
   "metadata": {},
   "outputs": [],
   "source": [
    "#imports\n",
    "import pandas as pd"
   ]
  },
  {
   "cell_type": "code",
   "execution_count": 5,
   "metadata": {},
   "outputs": [
    {
     "name": "stdout",
     "output_type": "stream",
     "text": [
      "          match_id     summoner_name  champion     role   win  kills  deaths  \\\n",
      "0  EUW1_7189126563       Raphouillll    Kennen      TOP  True      3       2   \n",
      "1  EUW1_7189126563   BaconsGladstone  Nocturne   JUNGLE  True      8       1   \n",
      "2  EUW1_7189126563         Tyty56330      Ahri   MIDDLE  True      5       0   \n",
      "3  EUW1_7189126563               NaN   Smolder   BOTTOM  True      2       1   \n",
      "4  EUW1_7189126563  LucianoSavastano    Gragas  UTILITY  True      1       0   \n",
      "\n",
      "   assists  \n",
      "0        1  \n",
      "1        4  \n",
      "2        6  \n",
      "3        3  \n",
      "4        3  \n"
     ]
    }
   ],
   "source": [
    "#import + read csv file\n",
    "data = pd.read_csv(\"matches.csv\")\n",
    "print(data.head())"
   ]
  },
  {
   "cell_type": "code",
   "execution_count": 6,
   "metadata": {},
   "outputs": [
    {
     "name": "stdout",
     "output_type": "stream",
     "text": [
      "<class 'pandas.core.frame.DataFrame'>\n",
      "RangeIndex: 100 entries, 0 to 99\n",
      "Data columns (total 8 columns):\n",
      " #   Column         Non-Null Count  Dtype \n",
      "---  ------         --------------  ----- \n",
      " 0   match_id       100 non-null    object\n",
      " 1   summoner_name  84 non-null     object\n",
      " 2   champion       100 non-null    object\n",
      " 3   role           58 non-null     object\n",
      " 4   win            100 non-null    bool  \n",
      " 5   kills          100 non-null    int64 \n",
      " 6   deaths         100 non-null    int64 \n",
      " 7   assists        100 non-null    int64 \n",
      "dtypes: bool(1), int64(3), object(4)\n",
      "memory usage: 5.7+ KB\n",
      "None\n"
     ]
    }
   ],
   "source": [
    "print(data.info())"
   ]
  },
  {
   "cell_type": "code",
   "execution_count": 7,
   "metadata": {},
   "outputs": [
    {
     "name": "stdout",
     "output_type": "stream",
     "text": [
      "match_id          0\n",
      "summoner_name    16\n",
      "champion          0\n",
      "role             42\n",
      "win               0\n",
      "kills             0\n",
      "deaths            0\n",
      "assists           0\n",
      "dtype: int64\n"
     ]
    }
   ],
   "source": [
    "#handling missing values\n",
    "print(data.isnull().sum())\n"
   ]
  },
  {
   "cell_type": "code",
   "execution_count": null,
   "metadata": {},
   "outputs": [],
   "source": [
    "#data"
   ]
  }
 ],
 "metadata": {
  "kernelspec": {
   "display_name": "Python 3",
   "language": "python",
   "name": "python3"
  },
  "language_info": {
   "codemirror_mode": {
    "name": "ipython",
    "version": 3
   },
   "file_extension": ".py",
   "mimetype": "text/x-python",
   "name": "python",
   "nbconvert_exporter": "python",
   "pygments_lexer": "ipython3",
   "version": "3.11.1"
  }
 },
 "nbformat": 4,
 "nbformat_minor": 2
}
