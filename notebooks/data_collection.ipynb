{
 "cells": [
  {
   "cell_type": "code",
   "execution_count": 28,
   "metadata": {},
   "outputs": [],
   "source": [
    "# imports\n",
    "import requests\n",
    "import time\n",
    "import pandas as pd"
   ]
  },
  {
   "cell_type": "code",
   "execution_count": 29,
   "metadata": {},
   "outputs": [],
   "source": [
    "# --- Global Configuration ---\n",
    "API_KEY = \"RGAPI-ca35851d-28f7-480f-a51c-2b5798f68e06\"  # Replace with your Riot API key\n",
    "REGION = \"europe\"           # Replace with your region (e.g., na1, eun1, etc.)\n",
    "MATCH_REGION = \"europe\"   # Match region (e.g., americas, asia, europe)\n",
    "BASE_URL = f\"https://{REGION}.api.riotgames.com\"\n",
    "MATCH_URL = f\"https://{MATCH_REGION}.api.riotgames.com\"\n",
    "#nay 1401 puuid = \"IvsWwkcWhgfifuaSvv9XoWw8OtzFDFvHj0lZpyN6yO-jSROwuQRiH2KczwahTZezGnRIGLUmfOJyug\""
   ]
  },
  {
   "cell_type": "code",
   "execution_count": 30,
   "metadata": {},
   "outputs": [],
   "source": [
    "# helper functions\n",
    "#request url : https://europe.api.riotgames.com/riot/account/v1/accounts/by-riot-id/nay/1401?api_key=RGAPI-ca35851d-28f7-480f-a51c-2b5798f68e06"
   ]
  },
  {
   "cell_type": "code",
   "execution_count": 38,
   "metadata": {},
   "outputs": [],
   "source": [
    "def get_summoner_info(summoner_name, summoner_tagline):\n",
    "    \"\"\"Fetch summoner info by name and tagline.\"\"\"\n",
    "    # Include the API key as a query parameter\n",
    "    url = f\"{BASE_URL}/riot/account/v1/accounts/by-riot-id/{summoner_name}/{summoner_tagline}?api_key={API_KEY}\"\n",
    "    response = requests.get(url)\n",
    "    \n",
    "    if response.status_code == 200:\n",
    "        return response.json()\n",
    "    else:\n",
    "        print(f\"Error fetching summoner info: {response.status_code}, {response.text}\")\n",
    "        return None\n"
   ]
  },
  {
   "cell_type": "code",
   "execution_count": 32,
   "metadata": {},
   "outputs": [],
   "source": [
    "def get_match_ids(puuid, count=20):\n",
    "    \"\"\"Fetch match IDs for a given summoner.\"\"\"\n",
    "    url = f\"{MATCH_URL}/lol/match/v5/matches/by-puuid/{puuid}/ids?count={count}\"\n",
    "    headers = {\"X-Riot-Token\": API_KEY}\n",
    "    response = requests.get(url, headers=headers)\n",
    "    if response.status_code == 200:\n",
    "        return response.json()\n",
    "    else:\n",
    "        print(f\"Error fetching match IDs: {response.status_code}, {response.text}\")\n",
    "        return []"
   ]
  },
  {
   "cell_type": "code",
   "execution_count": 33,
   "metadata": {},
   "outputs": [],
   "source": [
    "def get_match_details(match_id):\n",
    "    \"\"\"Fetch detailed match data.\"\"\"\n",
    "    url = f\"{MATCH_URL}/lol/match/v5/matches/{match_id}\"\n",
    "    headers = {\"X-Riot-Token\": API_KEY}\n",
    "    response = requests.get(url, headers=headers)\n",
    "    if response.status_code == 200:\n",
    "        return response.json()\n",
    "    elif response.status_code == 429:  # Handle rate limiting\n",
    "        retry_after = int(response.headers.get(\"Retry-After\", 1))\n",
    "        print(f\"Rate limit hit. Retrying after {retry_after} seconds...\")\n",
    "        time.sleep(retry_after)\n",
    "        return get_match_details(match_id)\n",
    "    else:\n",
    "        print(f\"Error fetching match details: {response.status_code}, {response.text}\")\n",
    "        return None\n"
   ]
  },
  {
   "cell_type": "code",
   "execution_count": 34,
   "metadata": {},
   "outputs": [],
   "source": [
    "def save_matches_to_csv(match_details_list, filename=\"matches.csv\"):\n",
    "    \"\"\"Save match details to a CSV file.\"\"\"\n",
    "    matches_data = []\n",
    "    for match in match_details_list:\n",
    "        if match:  # Ensure the match is valid\n",
    "            match_info = match[\"info\"]\n",
    "            for participant in match_info[\"participants\"]:\n",
    "                matches_data.append({\n",
    "                    \"match_id\": match[\"metadata\"][\"matchId\"],\n",
    "                    \"summoner_name\": participant[\"summonerName\"],\n",
    "                    \"champion\": participant[\"championName\"],\n",
    "                    \"role\": participant[\"teamPosition\"],\n",
    "                    \"win\": participant[\"win\"],\n",
    "                    \"kills\": participant[\"kills\"],\n",
    "                    \"deaths\": participant[\"deaths\"],\n",
    "                    \"assists\": participant[\"assists\"]\n",
    "                })\n",
    "    df = pd.DataFrame(matches_data)\n",
    "    df.to_csv(filename, index=False)\n",
    "    print(f\"Saved {len(matches_data)} entries to {filename}\")"
   ]
  },
  {
   "cell_type": "code",
   "execution_count": null,
   "metadata": {},
   "outputs": [
    {
     "name": "stdout",
     "output_type": "stream",
     "text": [
      "Fetching match IDs for summoner: nay (PUUID: IvsWwkcWhgfifuaSvv9XoWw8OtzFDFvHj0lZpyN6yO-jSROwuQRiH2KczwahTZezGnRIGLUmfOJyug)\n",
      "Fetched 10 match IDs.\n",
      "Fetching details for match 1/10: EUW1_7189126563\n",
      "Fetching details for match 2/10: EUW1_7186797526\n",
      "Fetching details for match 3/10: EUW1_7184516358\n",
      "Fetching details for match 4/10: EUW1_7183385240\n",
      "Fetching details for match 5/10: EUW1_7182993484\n",
      "Fetching details for match 6/10: EUW1_7182968265\n",
      "Fetching details for match 7/10: EUW1_7182889300\n",
      "Fetching details for match 8/10: EUW1_7182832101\n",
      "Fetching details for match 9/10: EUW1_7182226910\n",
      "Fetching details for match 10/10: EUW1_7182180649\n",
      "Saved 100 entries to matches.csv\n",
      "Data collection complete.\n"
     ]
    }
   ],
   "source": [
    "# --- Main Script ---\n",
    "if __name__ == \"__main__\":\n",
    "    summoner_name = input(\"Enter the summoner's name: \").strip()\n",
    "    summoner_tagline = input(\"Enter the summoner's tagline: \").strip()\n",
    "    \n",
    "    # Step 1: Get Summoner Info\n",
    "    summoner_info = get_summoner_info(summoner_name,summoner_tagline)\n",
    "    if not summoner_info:\n",
    "        print(\"Failed to fetch summoner info. Exiting.\")\n",
    "        exit(1)\n",
    "\n",
    "    puuid = summoner_info[\"puuid\"]\n",
    "    print(f\"Fetching match IDs for summoner: {summoner_name} (PUUID: {puuid})\")\n",
    "\n",
    "    # Step 2: Get Match IDs\n",
    "    match_ids = get_match_ids(puuid, count=10)  # Adjust the count as needed\n",
    "    print(f\"Fetched {len(match_ids)} match IDs.\")\n",
    "\n",
    "    # Step 3: Get Match Details\n",
    "    all_match_details = []\n",
    "    for idx, match_id in enumerate(match_ids):\n",
    "        print(f\"Fetching details for match {idx + 1}/{len(match_ids)}: {match_id}\")\n",
    "        match_details = get_match_details(match_id)\n",
    "        all_match_details.append(match_details)\n",
    "        time.sleep(1.2)  # Avoid hitting rate limits\n",
    "\n",
    "    # Step 4: Save to CSV\n",
    "    save_matches_to_csv(all_match_details, filename=\"..\\data\\matches.csv\")\n",
    "    print(\"Data collection complete.\")"
   ]
  },
  {
   "cell_type": "code",
   "execution_count": null,
   "metadata": {},
   "outputs": [],
   "source": [
    "# EOF"
   ]
  }
 ],
 "metadata": {
  "kernelspec": {
   "display_name": "Python 3",
   "language": "python",
   "name": "python3"
  },
  "language_info": {
   "codemirror_mode": {
    "name": "ipython",
    "version": 3
   },
   "file_extension": ".py",
   "mimetype": "text/x-python",
   "name": "python",
   "nbconvert_exporter": "python",
   "pygments_lexer": "ipython3",
   "version": "3.11.1"
  }
 },
 "nbformat": 4,
 "nbformat_minor": 2
}
